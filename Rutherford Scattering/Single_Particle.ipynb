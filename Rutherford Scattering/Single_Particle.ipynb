from vpython import *
import math
import numpy as np
import matplotlib.pyplot as plt
scale = 1e-10
scene = canvas(title='Rutherford Scattering', background=color.white)
run = True
R = scale
qe = 1.6e-19
KE = 1e5*1.6e-19 # eV*conversion_factor_to_J
kel = 9e9
range_of_particles = arange(-0.02*scale,scale*0.20,scale*0.009)
vx=[]
vy=[]
yi=[]
theta=[]
#arange(, height,density )

alphas = []

for i in range_of_particles:
    particle = sphere(color=color.black,radius=0.001*R,stop=False)
    attach_trail(particle,radius=0.001*R,color=color.black)
    particle.mass = 4*1.67e-27 # kg
    particle.charge = 2*qe
    particle.pos = vec(-0.6*scale, i, 0)
    yi.append(particle.pos.y)
    particle.mom = sqrt(2*particle.mass*KE)*vec(1,0,0)
    alphas.append(particle)

gold = sphere(color=color.black,radius=0.01*scale)
gold.charge = 79*qe


dt = 1e-19
while(run==True):
    rate(40)
    for particle in alphas:
        if particle.stop == False:
            runit = particle.pos/mag(particle.pos)
            F = kel*particle.charge*gold.charge/mag2(particle.pos)*runit
            particle.mom = particle.mom + F*dt
            particle.pos = particle.pos + (particle.mom/particle.mass)*dt
            #print(particle.mom)
        #if mag(particle.pos) < 1:
        if mag(particle.pos) > scale*0.7:
            particle.stop = True
            run=False
def ang(cx,cy):
    #scattering angle
    if((abs(cx)==0) and (cy>0)):
        return (np.pi/2)
    elif((abs(cx)==0) and (cy<0)): 
        return (3*np.pi/2)
    elif((abs(cx)==cx) and (abs(cy)==cy)): #first
        return (np.pi/2)-math.atan2(cx,cy)
    elif((abs(cx)==-cx) and (abs(cy)==cy)): #second
        return (np.pi/2)-math.atan2(cx,cy)
    elif((abs(cx)==-cx) and (abs(cy)==-cy)): #third
          return (-np.pi/2)-(np.pi+math.atan2(cx,cy))
    elif((abs(cx)==cx) and (abs(cy)==-cy)):  #fourth
        return -math.atan2(cx,cy)+np.pi/2
    else:
        return 0
for particle in alphas:
    vx.append(particle.mom.x)
    vy.append(particle.mom.y)
    theta.append(ang(particle.pos.x,particle.pos.y)*180/np.pi)
plt.scatter(yi,theta)
plt.xlabel('Incident Position')
plt.ylabel('Scattering Angle')
plt.title('Incident Position vs. Scattering Angle')
