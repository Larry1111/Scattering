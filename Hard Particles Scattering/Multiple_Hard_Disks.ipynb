from vpython import *
import math
import numpy as np
import matplotlib.pyplot as plt
from decimal import Decimal
gra=gcurve(color=color.black)
scale = 1
scene = canvas(title='Hard Disk Scattering', background=color.white,center=vec(0,0,0))
particle2=sphere(pos=vec((5*scale*2.5*math.sqrt(3)/3),0,0), radius=5*scale, color=color.black)
particle3=sphere(pos=vec((5*scale*-2.5*math.sqrt(3)/6),5*scale*1.25,0), radius=5*scale, color=color.black)
particle4=sphere(pos=vec((5*scale*-2.5*math.sqrt(3)/6),5*scale*-1.25,0), radius=5*scale, color=color.black)
range_of_particles = arange(5*scale*0.383,5*scale*0.391,5*scale*0.0001)
vx=[]
vy=[]
yi=[]
theta=[]
particles = []

for i in range_of_particles:
    particle = sphere(color = color.black,radius = 0)
    attach_trail(particle,radius=scale*0.01,color=color.black)
    particle.m = 1 # kg
    particle.F=vec(0,0,0)
    particle.dis=particle2.radius
    particle.mom = vec(5*20*scale,0,0)
    particle.pos = vec(5*scale*-2.5*math.sqrt(3)/6-5*scale, i, 0)
    yi.append(particle.pos.y/5)
    particles.append(particle)
t=0
dt=0.000002

while(t<1):
    rate(1000)
    for particle in particles:
        if mag(particle.pos-particle2.pos)<particle.dis:
            particle.F = scale*norm(particle.pos-particle2.pos)
            particle.mom = particle.mom+scale*particle.F
        elif Decimal(mag(particle.pos-particle3.pos))<particle.dis:
            particle.F=scale*norm(particle.pos-particle3.pos)
            particle.mom = particle.mom+scale*particle.F
        elif Decimal(mag(particle.pos-particle4.pos))<particle.dis:
            particle.F=scale*norm(particle.pos-particle4.pos)
            particle.mom = particle.mom+scale*particle.F
        particle.pos = particle.pos + (particle.mom/particle.m)*dt
    t=t+dt
label(pos=vec(0,-30*scale,0),text='''Figure 3a. Simulation of scattering with 4 hard disks
and an incident angle of 30 degrees.''', box = False)
def ang(cx,cy):
    #scattering angle
    if((abs(cx)==0) and (cy>0)):
        return (np.pi/2)
    elif((abs(cx)==0) and (cy<0)): 
        return (3*np.pi/2)
    elif((abs(cx)==cx) and (abs(cy)==cy)): #first
        return math.atan2(cy,cx)
    elif((abs(cx)==-cx) and (abs(cy)==cy)): #second
        return math.atan2(cy,cx)
    elif((abs(cx)==-cx) and (abs(cy)==-cy)): #third
        return 2*np.pi+math.atan2(cy,cx)
    elif((abs(cx)==cx) and (abs(cy)==-cy)):  #fourth
        return math.atan2(cy,cx)+2*np.pi
    else:
        return 0
for particle in particles:
    theta.append(ang(particle.pos.x,particle.pos.y))

plt.scatter(yi,theta,s=0.3)
plt.xlabel('''Impact Parameter

Figure 3b. Plot of the setup from figure 3a.
with 2000 data points.''')
plt.ylabel('Scattering Angle')
plt.title('Impact Parameter vs. Scattering Angle')
