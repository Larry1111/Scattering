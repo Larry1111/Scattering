//multiple beam of light, multiple hard disk
from vpython import *
import math
import numpy as np
import matplotlib.pyplot as plt
gra=gcurve(color=color.black)
scene = canvas(title='Hard Disk Scattering', background=color.white)
particle2=sphere(pos=vec(0,0,0), radius=0.1, color=color.black)
particle3=sphere(pos=vec(-0.4,0.25,0), radius=0.1, color=color.black)
particle4=sphere(pos=vec(-0.4,-0.25,0), radius=0.1, color=color.black)
range_of_particles = arange(-0.1,0.1,0.005)
vx=[]
vy=[]
yi=[]
theta=[]
particles = []

for i in range_of_particles:
    particle = sphere(color=color.black,radius=0.001)
    attach_trail(particle,radius=0.001,color=color.black)
    particle.m = 1 # kg
    particle.F=vec(0,0,0)
    particle.dis2=particle.radius+particle2.radius
    particle.dis3=particle.radius+particle3.radius
    particle.dis4=particle.radius+particle4.radius
    particle.mom = particle.m*vec(15,0,0)
    particle.pos = vec(-2, i, 0)
    yi.append(particle.pos.y)
    particles.append(particle)
t=0
dt=0.00001

while(t<8):
    rate(1000)
    for particle in particles:
        if mag(particle.pos-particle2.pos)<particle.dis2:
            particle.F=norm(particle.pos-particle2.pos)
            particle.mom = particle.mom+particle.F
        elif mag(particle.pos-particle3.pos)<particle.dis3:
            particle.F=norm(particle.pos-particle3.pos)
            particle.mom = particle.mom+particle.F
        elif mag(particle.pos-particle4.pos)<particle.dis4:
            particle.F=norm(particle.pos-particle4.pos)
            particle.mom = particle.mom+particle.F
        particle.pos = particle.pos + (particle.mom/particle.m)*dt
        t=t+dt
def ang(cx,cy):
    #scattering angle
    if((abs(cx)==0) and (cy>0)):
        return (np.pi/2)
    elif((abs(cx)==0) and (cy<0)): 
        return (3*np.pi/2)
    elif((abs(cx)==cx) and (abs(cy)==cy)): #first
        return (np.pi/2)-math.atan2(cx,cy)
    elif((abs(cx)==-cx) and (abs(cy)==cy)): #second
        return (np.pi/2)-math.atan2(cx,cy)
    elif((abs(cx)==-cx) and (abs(cy)==-cy)): #third
          return (-np.pi/2)-(np.pi+math.atan2(cx,cy))
    elif((abs(cx)==cx) and (abs(cy)==-cy)):  #fourth
        return -math.atan2(cx,cy)+np.pi/2
    else:
        return 0
for particle in particles:
    theta.append(ang(particle.pos.x,particle.pos.y)*180/np.pi)

plt.scatter(yi,theta)
plt.xlabel('Incident Position')
plt.ylabel('Scattering Angle')
plt.title('Incident Position vs. Scattering Angle')
