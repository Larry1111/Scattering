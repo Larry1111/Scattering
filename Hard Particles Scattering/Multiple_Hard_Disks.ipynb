#multiple beam of light, multiple hard disk
from vpython import *
import math
import numpy as np
import matplotlib.pyplot as plt
gra=gcurve(color=color.black)
scale = 1
scene = canvas(title='Hard Disk Scattering', background=color.white)
particle2=sphere(pos=vec(scale*2.5*math.sqrt(3)/3,0,0), radius=scale*1, color=color.black)
particle3=sphere(pos=vec(scale*-2.5*math.sqrt(3)/6,scale*1.25,0), radius=scale*1, color=color.black)
particle4=sphere(pos=vec(scale*-2.5*math.sqrt(3)/6,scale*-1.25,0), radius=scale*1, color=color.black)
range_of_particles = arange(0,scale*0.5,scale*0.0002)
vx=[]
vy=[]
yi=[]
theta=[]
particles = []

for i in range_of_particles:
    particle = sphere(color = color.black,radius = scale*0.002)
    attach_trail(particle,radius=scale*0.004,color=color.black)
    particle.m = 1 # kg
    particle.F=vec(0,0,0)
    particle.dis2=particle.radius+particle2.radius
    particle.dis3=particle.radius+particle3.radius
    particle.dis4=particle.radius+particle4.radius
    particle.mom = vec(15,0,0)
    particle.pos = vec(scale*-2.5, i, 0)
    yi.append(particle.pos.y)
    particles.append(particle)
t=0
dt=0.00002

while(t<5000):
    rate(1000)
    for particle in particles:
        if mag(particle.pos-particle2.pos)<particle.dis2:
            particle.F = norm(particle.pos-particle2.pos)
            particle.mom = particle.mom+particle.F
        elif mag(particle.pos-particle3.pos)<particle.dis3:
            particle.F=norm(particle.pos-particle3.pos)
            particle.mom = particle.mom+particle.F
        elif mag(particle.pos-particle4.pos)<particle.dis4:
            particle.F=norm(particle.pos-particle4.pos)
            particle.mom = particle.mom+particle.F
        particle.pos = particle.pos + (particle.mom/particle.m)*dt
        t=t+dt
label(pos=vec(0,-3*scale,0),text='''Figure 1a. Simulation of Gaspard Rice system.''', box = False)
def ang(cx,cy):
    #scattering angle
    if((abs(cx)==0) and (cy>0)):
        return (np.pi/2)
    elif((abs(cx)==0) and (cy<0)): 
        return (3*np.pi/2)
    elif((abs(cx)==cx) and (abs(cy)==cy)): #first
        return math.atan2(cy,cx)
    elif((abs(cx)==-cx) and (abs(cy)==cy)): #second
        return math.atan2(cy,cx)
    elif((abs(cx)==-cx) and (abs(cy)==-cy)): #third
        return 2*np.pi+math.atan2(cy,cx)
    elif((abs(cx)==cx) and (abs(cy)==-cy)):  #fourth
        return math.atan2(cy,cx)+2*np.pi
    else:
        return 0
for particle in particles:
    theta.append(ang(particle.pos.x,particle.pos.y))

plt.scatter(yi,theta,s=0.3)
plt.xlabel('''Impact Parameter

Figure 1b. Plot of Gaspard Rice system with 2500 data points.''')
plt.ylabel('Scattering Angle')
plt.title('Impact Parameter vs. Scattering Angle')
